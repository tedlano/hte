{
 "cells": [
  {
   "cell_type": "markdown",
   "id": "23309ea5",
   "metadata": {},
   "source": [
    "# Bar Menu Transformer - \"Hard to Explain\" Bar in NYC"
   ]
  },
  {
   "cell_type": "code",
   "execution_count": 1,
   "id": "54f6415b-8ef1-48a3-9c83-fb704217a9b6",
   "metadata": {},
   "outputs": [],
   "source": [
    "# Import Python Libraries\n",
    "import requests                 # Make http requests (get website data)\n",
    "import pandas as pd             # DataFrames, Excel \n",
    "from bs4 import BeautifulSoup   # Website Scraping\n",
    "from datetime import datetime   # Calendar Dates\n",
    "\n",
    "# Constants\n",
    "URL = \"https://www.hardtoexplain.co/menu\""
   ]
  },
  {
   "cell_type": "code",
   "execution_count": 2,
   "id": "1f7c82c6",
   "metadata": {},
   "outputs": [],
   "source": [
    "# Function: Get Website Content\n",
    "def fetch_web_content(url):\n",
    "    \"\"\"Fetch content from a web page.\"\"\"\n",
    "    response = requests.get(url)\n",
    "    return response.content"
   ]
  },
  {
   "cell_type": "code",
   "execution_count": 3,
   "id": "18735758-cd3c-479b-aad2-be6fb05c237a",
   "metadata": {},
   "outputs": [],
   "source": [
    "def parse_menu(content):\n",
    "    \"\"\"Parse the menu data from the web content using BeautifulSoup.\"\"\"\n",
    "    data = []\n",
    "    soup = BeautifulSoup(content, 'html.parser')\n",
    "    \n",
    "    # Find the main menu container\n",
    "    menus_div = soup.find('div', class_='menus')\n",
    "    \n",
    "    # Iterate over each menu in the container\n",
    "    for menu_div in menus_div.find_all('div', class_=\"menu\"):\n",
    "        menu_label = menu_div['aria-label']\n",
    "        \n",
    "        # Iterate over each section in a menu\n",
    "        for menu_section_div in menu_div.find_all('div', class_=\"menu-section\"):\n",
    "            section_header = menu_section_div.find('div', class_=\"menu-section-title\").text\n",
    "            \n",
    "            # Iterate over each item in a section\n",
    "            for menu_item_div in menu_section_div.find_all('div', class_='menu-item'):\n",
    "                name = menu_item_div.find('div', class_='menu-item-title').text\n",
    "\n",
    "                try:\n",
    "                    price = menu_item_div.find('span', class_='menu-item-price-top').text\n",
    "                    # Clean up the price format\n",
    "                    price = price.strip().replace('\\n', ' ').replace('\\r', '').replace('  ', '').replace('/', ' / ')\n",
    "                except AttributeError:\n",
    "                    price = \"\"\n",
    "\n",
    "                try:\n",
    "                    description = menu_item_div.find('div', class_='menu-item-description').text\n",
    "                except AttributeError:\n",
    "                    description = \"\"\n",
    "                \n",
    "                # Get the item options, if present\n",
    "                options = []\n",
    "                menu_item_options_div = menu_item_div.find('div', class_='menu-item-options')\n",
    "                if menu_item_options_div:\n",
    "                    for menu_item_option_div in menu_item_options_div.find_all('div', class_='menu-item-option'):\n",
    "                        options.append(menu_item_option_div.text.strip())\n",
    "                \n",
    "                data.append({\n",
    "                    'Type': menu_label,\n",
    "                    'Section': section_header,\n",
    "                    'Name': name,\n",
    "                    'Price': price,\n",
    "                    'Description': description,\n",
    "                    'Options': '\\n'.join(options)\n",
    "                })\n",
    "\n",
    "    return pd.DataFrame(data)"
   ]
  },
  {
   "cell_type": "code",
   "execution_count": 4,
   "id": "9f7b1155-0551-451b-aff5-1f673fe34cac",
   "metadata": {},
   "outputs": [],
   "source": [
    "# Function: Save Dataframe to Excel and format\n",
    "def save_to_excel(df, filename):\n",
    "    \"\"\"Save the DataFrame to Excel with formatting.\"\"\"\n",
    "    with pd.ExcelWriter(filename, engine='xlsxwriter') as writer:\n",
    "        # Write the dataframe to excel\n",
    "        df.to_excel(writer, sheet_name='Sheet1', index=False)\n",
    "        \n",
    "        # Access the xlsxwriter objects\n",
    "        workbook  = writer.book\n",
    "        worksheet = writer.sheets['Sheet1']\n",
    "        \n",
    "        # Define formats\n",
    "        bold_format = workbook.add_format({'bold': True})\n",
    "        word_wrap_format = workbook.add_format({'text_wrap': True, 'valign': 'top'})\n",
    "        \n",
    "        # Apply bold format to headers\n",
    "        for col_num, value in enumerate(df.columns.values):\n",
    "            worksheet.write(0, col_num, value, bold_format)\n",
    "            \n",
    "        # Apply word wrap and conditional formatting to data\n",
    "        (max_row, max_col) = df.shape\n",
    "        for row in range(1, max_row + 1):\n",
    "            for col in range(max_col):\n",
    "                cell_value = df.iloc[row-1, col]\n",
    "                \n",
    "                # Set the Type and Section values to blank if they're the same as the previous row\n",
    "                if col in [0, 1] and row > 1 and cell_value == df.iloc[row-2, col]:\n",
    "                    cell_value = \"\"\n",
    "                \n",
    "                worksheet.write(row, col, cell_value, word_wrap_format)\n",
    "        \n",
    "        # Set column widths\n",
    "        column_widths = [1, 2, 3, 1, 3, 8]\n",
    "        for i, width in enumerate(column_widths):\n",
    "            worksheet.set_column(i, i, width*10)"
   ]
  },
  {
   "cell_type": "code",
   "execution_count": 6,
   "id": "1a02ccf2",
   "metadata": {},
   "outputs": [
    {
     "ename": "AttributeError",
     "evalue": "'NoneType' object has no attribute 'text'",
     "output_type": "error",
     "traceback": [
      "\u001b[0;31m---------------------------------------------------------------------------\u001b[0m",
      "\u001b[0;31mAttributeError\u001b[0m                            Traceback (most recent call last)",
      "\u001b[1;32m/Users/tlano/Projects/hte/HTE_Menu.ipynb Cell 6\u001b[0m line \u001b[0;36m3\n\u001b[1;32m      <a href='vscode-notebook-cell:/Users/tlano/Projects/hte/HTE_Menu.ipynb#W5sZmlsZQ%3D%3D?line=0'>1</a>\u001b[0m \u001b[39m# Main script execution\u001b[39;00m\n\u001b[1;32m      <a href='vscode-notebook-cell:/Users/tlano/Projects/hte/HTE_Menu.ipynb#W5sZmlsZQ%3D%3D?line=1'>2</a>\u001b[0m content \u001b[39m=\u001b[39m fetch_web_content(URL)\n\u001b[0;32m----> <a href='vscode-notebook-cell:/Users/tlano/Projects/hte/HTE_Menu.ipynb#W5sZmlsZQ%3D%3D?line=2'>3</a>\u001b[0m df \u001b[39m=\u001b[39m parse_menu(content)\n\u001b[1;32m      <a href='vscode-notebook-cell:/Users/tlano/Projects/hte/HTE_Menu.ipynb#W5sZmlsZQ%3D%3D?line=3'>4</a>\u001b[0m timestamp \u001b[39m=\u001b[39m datetime\u001b[39m.\u001b[39mtoday()\u001b[39m.\u001b[39mstrftime(\u001b[39m'\u001b[39m\u001b[39m%\u001b[39m\u001b[39mY\u001b[39m\u001b[39m%\u001b[39m\u001b[39mm\u001b[39m\u001b[39m%d\u001b[39;00m\u001b[39m%\u001b[39m\u001b[39mH\u001b[39m\u001b[39m%\u001b[39m\u001b[39mM\u001b[39m\u001b[39m'\u001b[39m)\n\u001b[1;32m      <a href='vscode-notebook-cell:/Users/tlano/Projects/hte/HTE_Menu.ipynb#W5sZmlsZQ%3D%3D?line=4'>5</a>\u001b[0m filename \u001b[39m=\u001b[39m \u001b[39mf\u001b[39m\u001b[39m\"\u001b[39m\u001b[39moutput/HTE_Menu_\u001b[39m\u001b[39m{\u001b[39;00mtimestamp\u001b[39m}\u001b[39;00m\u001b[39m.xlsx\u001b[39m\u001b[39m\"\u001b[39m\n",
      "\u001b[1;32m/Users/tlano/Projects/hte/HTE_Menu.ipynb Cell 6\u001b[0m line \u001b[0;36m2\n\u001b[1;32m     <a href='vscode-notebook-cell:/Users/tlano/Projects/hte/HTE_Menu.ipynb#W5sZmlsZQ%3D%3D?line=24'>25</a>\u001b[0m \u001b[39mexcept\u001b[39;00m \u001b[39mAttributeError\u001b[39;00m:\n\u001b[1;32m     <a href='vscode-notebook-cell:/Users/tlano/Projects/hte/HTE_Menu.ipynb#W5sZmlsZQ%3D%3D?line=25'>26</a>\u001b[0m     price \u001b[39m=\u001b[39m \u001b[39m\"\u001b[39m\u001b[39m\"\u001b[39m\n\u001b[0;32m---> <a href='vscode-notebook-cell:/Users/tlano/Projects/hte/HTE_Menu.ipynb#W5sZmlsZQ%3D%3D?line=27'>28</a>\u001b[0m description \u001b[39m=\u001b[39m menu_item_div\u001b[39m.\u001b[39;49mfind(\u001b[39m'\u001b[39;49m\u001b[39mdiv\u001b[39;49m\u001b[39m'\u001b[39;49m, class_\u001b[39m=\u001b[39;49m\u001b[39m'\u001b[39;49m\u001b[39mmenu-item-description\u001b[39;49m\u001b[39m'\u001b[39;49m)\u001b[39m.\u001b[39;49mtext\n\u001b[1;32m     <a href='vscode-notebook-cell:/Users/tlano/Projects/hte/HTE_Menu.ipynb#W5sZmlsZQ%3D%3D?line=29'>30</a>\u001b[0m \u001b[39m# Get the item options, if present\u001b[39;00m\n\u001b[1;32m     <a href='vscode-notebook-cell:/Users/tlano/Projects/hte/HTE_Menu.ipynb#W5sZmlsZQ%3D%3D?line=30'>31</a>\u001b[0m options \u001b[39m=\u001b[39m []\n",
      "\u001b[0;31mAttributeError\u001b[0m: 'NoneType' object has no attribute 'text'"
     ]
    }
   ],
   "source": [
    "# Main script execution\n",
    "content = fetch_web_content(URL)\n",
    "df = parse_menu(content)\n",
    "timestamp = datetime.today().strftime('%Y%m%d%H%M')\n",
    "filename = f\"output/HTE_Menu_{timestamp}.xlsx\"\n",
    "save_to_excel(df, filename)\n",
    "print(f\"{filename} has been created with word wrap set for all cells.\")"
   ]
  },
  {
   "cell_type": "code",
   "execution_count": null,
   "id": "012a30d1-ec53-4f09-83ce-20a1d118bee3",
   "metadata": {},
   "outputs": [],
   "source": []
  }
 ],
 "metadata": {
  "kernelspec": {
   "display_name": "Python 3 (ipykernel)",
   "language": "python",
   "name": "python3"
  },
  "language_info": {
   "codemirror_mode": {
    "name": "ipython",
    "version": 3
   },
   "file_extension": ".py",
   "mimetype": "text/x-python",
   "name": "python",
   "nbconvert_exporter": "python",
   "pygments_lexer": "ipython3",
   "version": "3.11.0"
  }
 },
 "nbformat": 4,
 "nbformat_minor": 5
}
